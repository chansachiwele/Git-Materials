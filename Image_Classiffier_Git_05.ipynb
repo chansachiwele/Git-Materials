{
  "nbformat": 4,
  "nbformat_minor": 0,
  "metadata": {
    "colab": {
      "name": "Image_Classiffier_Git_05",
      "provenance": [],
      "collapsed_sections": [],
      "authorship_tag": "ABX9TyObN3AoDRauaLVLfJxvCx5n",
      "include_colab_link": true
    },
    "kernelspec": {
      "name": "python3",
      "display_name": "Python 3"
    }
  },
  "cells": [
    {
      "cell_type": "markdown",
      "metadata": {
        "id": "view-in-github",
        "colab_type": "text"
      },
      "source": [
        "<a href=\"https://colab.research.google.com/github/chansachiwele/Git-Materials/blob/master/Image_Classiffier_Git_05.ipynb\" target=\"_parent\"><img src=\"https://colab.research.google.com/assets/colab-badge.svg\" alt=\"Open In Colab\"/></a>"
      ]
    },
    {
      "cell_type": "markdown",
      "metadata": {
        "id": "39ZDfPyLprHF"
      },
      "source": [
        "# Working on the Fashion Fashion UMNIST dataset by Chansa Chiwele. It is a very intuitive dataset for practicing Neural Networks on. It has 70,000 grayscale images of 28 × 28 pixels each, with 10 classes. \n",
        "\n"
      ]
    },
    {
      "cell_type": "markdown",
      "metadata": {
        "id": "t0m4v_eHqJ9o"
      },
      "source": [
        "## Importing the necessary libraries for use in this work."
      ]
    },
    {
      "cell_type": "code",
      "metadata": {
        "colab": {
          "base_uri": "https://localhost:8080/"
        },
        "id": "gIXOodrYp1PG",
        "outputId": "485e77d4-169f-49c2-87aa-0bd4e6e14d6a"
      },
      "source": [
        "import tensorflow as tf\n",
        "from tensorflow import keras\n",
        "from keras.datasets import fashion_mnist\n",
        "from keras.models import Sequential\n",
        "from keras.layers import Dense, Flatten, Conv2D, MaxPooling2D, Dropout\n",
        "import pandas as pd \n",
        "import numpy as np\n",
        "import matplotlib.pyplot as plt \n",
        "\n",
        "print (f' The TensorFlow version is {tf.__version__}')\n",
        "\n"
      ],
      "execution_count": null,
      "outputs": [
        {
          "output_type": "stream",
          "text": [
            " The TensorFlow version is 2.3.0\n"
          ],
          "name": "stdout"
        }
      ]
    },
    {
      "cell_type": "code",
      "metadata": {
        "colab": {
          "base_uri": "https://localhost:8080/"
        },
        "id": "n0h-mWD-q3he",
        "outputId": "a86e592e-b469-4b7e-a08a-4fb427334b2d"
      },
      "source": [
        "# Checking the keras version\n",
        "print(f'The keras version is {keras.__version__}')"
      ],
      "execution_count": null,
      "outputs": [
        {
          "output_type": "stream",
          "text": [
            "The keras version is 2.4.0\n"
          ],
          "name": "stdout"
        }
      ]
    },
    {
      "cell_type": "markdown",
      "metadata": {
        "id": "OBNCCzH4rsTk"
      },
      "source": [
        "##Loading the UMNIST dataset using keras utilities."
      ]
    },
    {
      "cell_type": "code",
      "metadata": {
        "id": "U_0aI1HrrChP"
      },
      "source": [
        "df = keras.datasets.fashion_mnist \n",
        "(X_train_whole , y_train_whole), (X_test , y_test) = fashion_mnist.load_data() \n"
      ],
      "execution_count": null,
      "outputs": []
    },
    {
      "cell_type": "markdown",
      "metadata": {
        "id": "qhHTnrQdzbEJ"
      },
      "source": [
        "##Let us normalize the training and the test datasets."
      ]
    },
    {
      "cell_type": "code",
      "metadata": {
        "id": "VnCQ8ND8zy_R"
      },
      "source": [
        "X_train_whole, X_test = X_train_whole/ 255., X_test/ 255."
      ],
      "execution_count": null,
      "outputs": []
    },
    {
      "cell_type": "markdown",
      "metadata": {
        "id": "3m8O2RAeyzx3"
      },
      "source": [
        "##The dataset is already split into 60,000 images for the training set and 10,000 images forthe test set. I need to split the whole training dataset into 55,000 training images and 5,000 validation images."
      ]
    },
    {
      "cell_type": "code",
      "metadata": {
        "id": "H5ybpkcPtafJ"
      },
      "source": [
        "X_validation, X_train_whole = X_train_whole[:5000], X_train_whole[5000:]"
      ],
      "execution_count": null,
      "outputs": []
    },
    {
      "cell_type": "code",
      "metadata": {
        "id": "BpBTwgfq2Cfa"
      },
      "source": [
        "y_validation, y_train_whole = y_train_whole[:5000], y_train_whole[5000:]"
      ],
      "execution_count": null,
      "outputs": []
    },
    {
      "cell_type": "code",
      "metadata": {
        "id": "QJO1wcl7tEH9"
      },
      "source": [
        "classes = [\"T-shirt/top\" , \"Trouser\" , \"Pullover\" , \"Dress\" , \"Coat\" , \"Sandal\" , \"Shirt\" , \"Sneaker\" , \"Bag\" , \"Ankle boot\"] \n"
      ],
      "execution_count": null,
      "outputs": []
    },
    {
      "cell_type": "markdown",
      "metadata": {
        "id": "SeH6s6N-0MWM"
      },
      "source": [
        "##Plotting the image from class 0."
      ]
    },
    {
      "cell_type": "code",
      "metadata": {
        "colab": {
          "base_uri": "https://localhost:8080/",
          "height": 269
        },
        "id": "bLi6KKyd0VUY",
        "outputId": "a71d97df-ce7e-440b-b692-e9885392c33e"
      },
      "source": [
        "plt.figure()\n",
        "plt.imshow(X_train_whole[0])\n",
        "plt.colorbar()\n",
        "plt.grid(False)\n",
        "plt.show()"
      ],
      "execution_count": null,
      "outputs": [
        {
          "output_type": "display_data",
          "data": {
            "image/png": "[encoded data removed]",
            "text/plain": [
              "<Figure size 432x288 with 2 Axes>"
            ]
          },
          "metadata": {
            "tags": [],
            "needs_background": "light"
          }
        }
      ]
    },
    {
      "cell_type": "markdown",
      "metadata": {
        "id": "gTUDmrv30pdF"
      },
      "source": [
        "##Let us verify that the data is in the correct format and that we are ready to build and train the network, let's display the first 25 images from the training set and display the class name below each image."
      ]
    },
    {
      "cell_type": "code",
      "metadata": {
        "colab": {
          "base_uri": "https://localhost:8080/",
          "height": 589
        },
        "id": "bjC3i4DQ0ozr",
        "outputId": "037252fc-0fe6-4ee4-e24e-ea9ae94d71d7"
      },
      "source": [
        "plt.figure(figsize=(10,10))\n",
        "for i in range(25):\n",
        "    plt.subplot(5,5,i+1)\n",
        "    plt.xticks([])\n",
        "    plt.yticks([])\n",
        "    plt.grid(False)\n",
        "    plt.imshow(X_train_whole[i], cmap=plt.cm.binary)\n",
        "    plt.xlabel(classes[y_train_whole[i]])\n",
        "plt.show()"
      ],
      "execution_count": null,
      "outputs": [
        {
          "output_type": "display_data",
          "data": {
            "image/png": "[encoded data removed]",
            "text/plain": [
              "<Figure size 720x720 with 25 Axes>"
            ]
          },
          "metadata": {
            "tags": []
          }
        }
      ]
    },
    {
      "cell_type": "code",
      "metadata": {
        "colab": {
          "base_uri": "https://localhost:8080/",
          "height": 35
        },
        "id": "pvTdNO8y-fX7",
        "outputId": "6b549fb0-0ec9-4921-e896-74391cbf4968"
      },
      "source": [
        "# Checking the items in the classes.\n",
        "\n",
        "classes[y_train_whole[2]] \n"
      ],
      "execution_count": null,
      "outputs": [
        {
          "output_type": "execute_result",
          "data": {
            "application/vnd.google.colaboratory.intrinsic+json": {
              "type": "string"
            },
            "text/plain": [
              "'Sneaker'"
            ]
          },
          "metadata": {
            "tags": []
          },
          "execution_count": 10
        }
      ]
    },
    {
      "cell_type": "markdown",
      "metadata": {
        "id": "jJ2x5zsmGABR"
      },
      "source": [
        "###Building the model for classifying the UMNIST Fashon images."
      ]
    },
    {
      "cell_type": "code",
      "metadata": {
        "id": "rRwOmNdgGRYw"
      },
      "source": [
        "model = Sequential()\n",
        "model.add (Flatten(input_shape = [ 28 , 28])) \n",
        "model.add (Dense (300, activation = \"relu\")) \n",
        "model.add (Dense (100, activation = \"relu\")) \n",
        "model.add (Dense (10 , activation = \"softmax\")) \n",
        "\n",
        "                    \n"
      ],
      "execution_count": null,
      "outputs": []
    },
    {
      "cell_type": "code",
      "metadata": {
        "colab": {
          "base_uri": "https://localhost:8080/"
        },
        "id": "D8yePvcdITtl",
        "outputId": "6e3f6c9e-d160-492f-fb4f-788fd1e51e45"
      },
      "source": [
        "# Checking the summary of the model\n",
        "model.summary()"
      ],
      "execution_count": null,
      "outputs": [
        {
          "output_type": "stream",
          "text": [
            "Model: \"sequential\"\n",
            "_________________________________________________________________\n",
            "Layer (type)                 Output Shape              Param #   \n",
            "=================================================================\n",
            "flatten (Flatten)            (None, 784)               0         \n",
            "_________________________________________________________________\n",
            "dense (Dense)                (None, 300)               235500    \n",
            "_________________________________________________________________\n",
            "dense_1 (Dense)              (None, 100)               30100     \n",
            "_________________________________________________________________\n",
            "dense_2 (Dense)              (None, 10)                1010      \n",
            "=================================================================\n",
            "Total params: 266,610\n",
            "Trainable params: 266,610\n",
            "Non-trainable params: 0\n",
            "_________________________________________________________________\n"
          ],
          "name": "stdout"
        }
      ]
    },
    {
      "cell_type": "code",
      "metadata": {
        "id": "LPrbl48jIfQ7"
      },
      "source": [
        "hidden1 = model.layers[1] \n"
      ],
      "execution_count": null,
      "outputs": []
    },
    {
      "cell_type": "code",
      "metadata": {
        "colab": {
          "base_uri": "https://localhost:8080/"
        },
        "id": "o9DWhufrJeMd",
        "outputId": "b225211c-dda9-40e4-bb0a-461a3d122edd"
      },
      "source": [
        "print(hidden1)"
      ],
      "execution_count": null,
      "outputs": [
        {
          "output_type": "stream",
          "text": [
            "<tensorflow.python.keras.layers.core.Dense object at 0x7feae7dc5588>\n"
          ],
          "name": "stdout"
        }
      ]
    },
    {
      "cell_type": "code",
      "metadata": {
        "colab": {
          "base_uri": "https://localhost:8080/"
        },
        "id": "I9tAsWkwJhha",
        "outputId": "e9f70e84-4b15-492c-82d1-354231710554"
      },
      "source": [
        "print(hidden1.name)"
      ],
      "execution_count": null,
      "outputs": [
        {
          "output_type": "stream",
          "text": [
            "dense\n"
          ],
          "name": "stdout"
        }
      ]
    },
    {
      "cell_type": "code",
      "metadata": {
        "id": "QYV8DCaUJr5n"
      },
      "source": [
        "# model.get_layer ('max_pooling2d_3') is hidden1 \n"
      ],
      "execution_count": null,
      "outputs": []
    },
    {
      "cell_type": "code",
      "metadata": {
        "id": "WcbTCuTkKbk3"
      },
      "source": [
        "hidden2 = model.layers[2]  \n"
      ],
      "execution_count": null,
      "outputs": []
    },
    {
      "cell_type": "code",
      "metadata": {
        "colab": {
          "base_uri": "https://localhost:8080/"
        },
        "id": "A0ov5bpmKs6e",
        "outputId": "2365074c-82b0-43af-b53d-d2bd96db2230"
      },
      "source": [
        "print(hidden2.name)"
      ],
      "execution_count": null,
      "outputs": [
        {
          "output_type": "stream",
          "text": [
            "dense_1\n"
          ],
          "name": "stdout"
        }
      ]
    },
    {
      "cell_type": "code",
      "metadata": {
        "id": "7FnLAEXyLK46"
      },
      "source": [
        "weights = hidden2.get_weights() \n"
      ],
      "execution_count": null,
      "outputs": []
    },
    {
      "cell_type": "code",
      "metadata": {
        "colab": {
          "base_uri": "https://localhost:8080/"
        },
        "id": "hpoaE14ULjku",
        "outputId": "5aa4683a-82bc-4d4d-e23e-4aa12184c9e4"
      },
      "source": [
        "print(weights)"
      ],
      "execution_count": null,
      "outputs": [
        {
          "output_type": "stream",
          "text": [
            "[array([[-0.02458986,  0.08664676,  0.04714923, ...,  0.01676763,\n",
            "         0.11451247,  0.08519755],\n",
            "       [ 0.11035077,  0.01140416, -0.04741025, ..., -0.03473091,\n",
            "        -0.05836079,  0.00556973],\n",
            "       [-0.09412708, -0.03230745, -0.11296237, ..., -0.084088  ,\n",
            "         0.09320156,  0.04156341],\n",
            "       ...,\n",
            "       [-0.01725276, -0.07910429, -0.01064517, ..., -0.07865983,\n",
            "         0.11775606, -0.08870003],\n",
            "       [-0.11643656,  0.00251084, -0.00275916, ...,  0.12183126,\n",
            "         0.08203948, -0.02887505],\n",
            "       [-0.0849316 ,  0.0368192 , -0.07528286, ..., -0.04058143,\n",
            "         0.07799055,  0.10790849]], dtype=float32), array([0., 0., 0., 0., 0., 0., 0., 0., 0., 0., 0., 0., 0., 0., 0., 0., 0.,\n",
            "       0., 0., 0., 0., 0., 0., 0., 0., 0., 0., 0., 0., 0., 0., 0., 0., 0.,\n",
            "       0., 0., 0., 0., 0., 0., 0., 0., 0., 0., 0., 0., 0., 0., 0., 0., 0.,\n",
            "       0., 0., 0., 0., 0., 0., 0., 0., 0., 0., 0., 0., 0., 0., 0., 0., 0.,\n",
            "       0., 0., 0., 0., 0., 0., 0., 0., 0., 0., 0., 0., 0., 0., 0., 0., 0.,\n",
            "       0., 0., 0., 0., 0., 0., 0., 0., 0., 0., 0., 0., 0., 0., 0.],\n",
            "      dtype=float32)]\n"
          ],
          "name": "stdout"
        }
      ]
    },
    {
      "cell_type": "markdown",
      "metadata": {
        "id": "opCj0Yk1QWdp"
      },
      "source": [
        "##We now compile the model using the  sparce_cross_entropy loss function because we have sparce labels that is, 0 to 9 inclusive.."
      ]
    },
    {
      "cell_type": "code",
      "metadata": {
        "id": "QHHZwnsbMFUv"
      },
      "source": [
        "model.compile(loss = \"sparse_categorical_crossentropy\", optimizer = \"sgd\" , metrics = [\"accuracy\"]) \n"
      ],
      "execution_count": null,
      "outputs": []
    },
    {
      "cell_type": "code",
      "metadata": {
        "id": "26hcXauRX8AD"
      },
      "source": [
        "#import numpy as np\n",
        "#scaled_train_images=X_train_whole[...,np.newaxis]\n",
        "#scaled_valid_imags=X_validation[...,np.newaxis]\n",
        "#scaled_test_images=X_test[...,np.newaxis]"
      ],
      "execution_count": null,
      "outputs": []
    },
    {
      "cell_type": "code",
      "metadata": {
        "colab": {
          "base_uri": "https://localhost:8080/"
        },
        "id": "rpNFuvxORF9O",
        "outputId": "4c592331-2a4a-4f4f-a308-f04ad6d0933c"
      },
      "source": [
        "\n",
        "\n",
        "history = model.fit(X_train_whole, y_train_whole,\n",
        "                    validation_data = (X_validation, y_validation), \n",
        "                    epochs = 30, verbose=1)\n"
      ],
      "execution_count": null,
      "outputs": [
        {
          "output_type": "stream",
          "text": [
            "Epoch 1/30\n",
            "1719/1719 [==============================] - 6s 3ms/step - loss: 0.7279 - accuracy: 0.7632 - val_loss: 0.5019 - val_accuracy: 0.8380\n",
            "Epoch 2/30\n",
            "1719/1719 [==============================] - 6s 3ms/step - loss: 0.4914 - accuracy: 0.8301 - val_loss: 0.4608 - val_accuracy: 0.8416\n",
            "Epoch 3/30\n",
            "1719/1719 [==============================] - 5s 3ms/step - loss: 0.4457 - accuracy: 0.8429 - val_loss: 0.4123 - val_accuracy: 0.8630\n",
            "Epoch 4/30\n",
            "1719/1719 [==============================] - 6s 3ms/step - loss: 0.4171 - accuracy: 0.8535 - val_loss: 0.3984 - val_accuracy: 0.8678\n",
            "Epoch 5/30\n",
            "1719/1719 [==============================] - 6s 3ms/step - loss: 0.3989 - accuracy: 0.8593 - val_loss: 0.3787 - val_accuracy: 0.8680\n",
            "Epoch 6/30\n",
            "1719/1719 [==============================] - 6s 3ms/step - loss: 0.3819 - accuracy: 0.8655 - val_loss: 0.3794 - val_accuracy: 0.8678\n",
            "Epoch 7/30\n",
            "1719/1719 [==============================] - 6s 3ms/step - loss: 0.3680 - accuracy: 0.8701 - val_loss: 0.3614 - val_accuracy: 0.8722\n",
            "Epoch 8/30\n",
            "1719/1719 [==============================] - 6s 3ms/step - loss: 0.3561 - accuracy: 0.8748 - val_loss: 0.3609 - val_accuracy: 0.8712\n",
            "Epoch 9/30\n",
            "1719/1719 [==============================] - 6s 3ms/step - loss: 0.3465 - accuracy: 0.8778 - val_loss: 0.3580 - val_accuracy: 0.8726\n",
            "Epoch 10/30\n",
            "1719/1719 [==============================] - 6s 3ms/step - loss: 0.3363 - accuracy: 0.8801 - val_loss: 0.3463 - val_accuracy: 0.8778\n",
            "Epoch 11/30\n",
            "1719/1719 [==============================] - 6s 3ms/step - loss: 0.3291 - accuracy: 0.8836 - val_loss: 0.3392 - val_accuracy: 0.8806\n",
            "Epoch 12/30\n",
            "1719/1719 [==============================] - 6s 3ms/step - loss: 0.3204 - accuracy: 0.8864 - val_loss: 0.3530 - val_accuracy: 0.8778\n",
            "Epoch 13/30\n",
            "1719/1719 [==============================] - 6s 3ms/step - loss: 0.3132 - accuracy: 0.8881 - val_loss: 0.3316 - val_accuracy: 0.8784\n",
            "Epoch 14/30\n",
            "1719/1719 [==============================] - 6s 3ms/step - loss: 0.3071 - accuracy: 0.8899 - val_loss: 0.3407 - val_accuracy: 0.8764\n",
            "Epoch 15/30\n",
            "1719/1719 [==============================] - 6s 4ms/step - loss: 0.3003 - accuracy: 0.8934 - val_loss: 0.3420 - val_accuracy: 0.8762\n",
            "Epoch 16/30\n",
            "1719/1719 [==============================] - 5s 3ms/step - loss: 0.2934 - accuracy: 0.8956 - val_loss: 0.3170 - val_accuracy: 0.8880\n",
            "Epoch 17/30\n",
            "1719/1719 [==============================] - 5s 3ms/step - loss: 0.2879 - accuracy: 0.8974 - val_loss: 0.3328 - val_accuracy: 0.8786\n",
            "Epoch 18/30\n",
            "1719/1719 [==============================] - 6s 3ms/step - loss: 0.2823 - accuracy: 0.8995 - val_loss: 0.3592 - val_accuracy: 0.8682\n",
            "Epoch 19/30\n",
            "1719/1719 [==============================] - 6s 3ms/step - loss: 0.2755 - accuracy: 0.9009 - val_loss: 0.3196 - val_accuracy: 0.8828\n",
            "Epoch 20/30\n",
            "1719/1719 [==============================] - 6s 4ms/step - loss: 0.2716 - accuracy: 0.9018 - val_loss: 0.3131 - val_accuracy: 0.8856\n",
            "Epoch 21/30\n",
            "1719/1719 [==============================] - 6s 4ms/step - loss: 0.2672 - accuracy: 0.9035 - val_loss: 0.3149 - val_accuracy: 0.8856\n",
            "Epoch 22/30\n",
            "1719/1719 [==============================] - 6s 4ms/step - loss: 0.2609 - accuracy: 0.9065 - val_loss: 0.3284 - val_accuracy: 0.8824\n",
            "Epoch 23/30\n",
            "1719/1719 [==============================] - 6s 4ms/step - loss: 0.2568 - accuracy: 0.9074 - val_loss: 0.3229 - val_accuracy: 0.8806\n",
            "Epoch 24/30\n",
            "1719/1719 [==============================] - 6s 4ms/step - loss: 0.2522 - accuracy: 0.9084 - val_loss: 0.3250 - val_accuracy: 0.8848\n",
            "Epoch 25/30\n",
            "1719/1719 [==============================] - 6s 4ms/step - loss: 0.2480 - accuracy: 0.9099 - val_loss: 0.3149 - val_accuracy: 0.8876\n",
            "Epoch 26/30\n",
            "1719/1719 [==============================] - 6s 4ms/step - loss: 0.2431 - accuracy: 0.9121 - val_loss: 0.3123 - val_accuracy: 0.8846\n",
            "Epoch 27/30\n",
            "1719/1719 [==============================] - 8s 5ms/step - loss: 0.2396 - accuracy: 0.9132 - val_loss: 0.3050 - val_accuracy: 0.8896\n",
            "Epoch 28/30\n",
            "1719/1719 [==============================] - 11s 6ms/step - loss: 0.2344 - accuracy: 0.9159 - val_loss: 0.2969 - val_accuracy: 0.8936\n",
            "Epoch 29/30\n",
            "1719/1719 [==============================] - 9s 5ms/step - loss: 0.2310 - accuracy: 0.9165 - val_loss: 0.3084 - val_accuracy: 0.8868\n",
            "Epoch 30/30\n",
            "1719/1719 [==============================] - 6s 3ms/step - loss: 0.2276 - accuracy: 0.9185 - val_loss: 0.3001 - val_accuracy: 0.8930\n"
          ],
          "name": "stdout"
        }
      ]
    },
    {
      "cell_type": "markdown",
      "metadata": {
        "id": "rwEMc2r0obFo"
      },
      "source": [
        "##We have obtained the accuracy of 92%  and validation accuracy of 89%."
      ]
    },
    {
      "cell_type": "markdown",
      "metadata": {
        "id": "0NOs4aYdpdjA"
      },
      "source": [
        "##Set the vertical range to [0-1] "
      ]
    },
    {
      "cell_type": "code",
      "metadata": {
        "colab": {
          "base_uri": "https://localhost:8080/",
          "height": 324
        },
        "id": "m3DckTlioODp",
        "outputId": "29e7975d-c216-4210-b8ad-7ca850d5bb9a"
      },
      "source": [
        "pd.DataFrame(history.history).plot(figsize = (8, 5)) \n",
        "plt.grid(True)\n",
        "plt.gca().set_ylim(0, 1)\n",
        "plt . show () \n"
      ],
      "execution_count": null,
      "outputs": [
        {
          "output_type": "display_data",
          "data": {
            "image/png": "[encoded data removed]",
            "text/plain": [
              "<Figure size 576x360 with 1 Axes>"
            ]
          },
          "metadata": {
            "tags": [],
            "needs_background": "light"
          }
        }
      ]
    },
    {
      "cell_type": "markdown",
      "metadata": {
        "id": "Kx9tM4UOrlBf"
      },
      "source": [
        "##I am now going to evaluating the model to check that it works. Sometimes, model evaluation can get a lower accuracy because the model has been trained on the training dataset and not on the test dataset used for model evaluaton."
      ]
    },
    {
      "cell_type": "code",
      "metadata": {
        "colab": {
          "base_uri": "https://localhost:8080/"
        },
        "id": "l1PNUZsrOzFR",
        "outputId": "f5e5c6e3-93df-455f-e448-2c9d82e745c6"
      },
      "source": [
        "model.evaluate(X_test, y_test, verbose=1)"
      ],
      "execution_count": null,
      "outputs": [
        {
          "output_type": "stream",
          "text": [
            "313/313 [==============================] - 1s 2ms/step - loss: 0.3271 - accuracy: 0.8836\n"
          ],
          "name": "stdout"
        },
        {
          "output_type": "execute_result",
          "data": {
            "text/plain": [
              "[0.3270513713359833, 0.8835999965667725]"
            ]
          },
          "metadata": {
            "tags": []
          },
          "execution_count": 25
        }
      ]
    },
    {
      "cell_type": "markdown",
      "metadata": {
        "id": "o-vC0PNQtB9C"
      },
      "source": [
        "##I am now going to use the model for prediction. We will use some instances from the test data to predict. We are going to use the first 4 instances from the test data to make the predictions. Remember we do not use the labels in predictions."
      ]
    },
    {
      "cell_type": "code",
      "metadata": {
        "id": "lc7hC1J2tIu9"
      },
      "source": [
        "X_prediction = X_test[:4]"
      ],
      "execution_count": null,
      "outputs": []
    },
    {
      "cell_type": "markdown",
      "metadata": {
        "id": "OZ85JMaKuZTS"
      },
      "source": [
        "##Let us look at the class probabilities that will tell us the classes where these fashion items belong."
      ]
    },
    {
      "cell_type": "code",
      "metadata": {
        "id": "DmeTYCBjuRm8"
      },
      "source": [
        "y_probabilities = model.predict(X_prediction)"
      ],
      "execution_count": null,
      "outputs": []
    },
    {
      "cell_type": "code",
      "metadata": {
        "colab": {
          "base_uri": "https://localhost:8080/"
        },
        "id": "TQHNNi4ru-CV",
        "outputId": "57bbed69-d90f-497b-f5da-2dcda73c0bc2"
      },
      "source": [
        "print(y_probabilities.round(2))"
      ],
      "execution_count": null,
      "outputs": [
        {
          "output_type": "stream",
          "text": [
            "[[0.   0.   0.   0.   0.   0.   0.   0.02 0.   0.98]\n",
            " [0.   0.   1.   0.   0.   0.   0.   0.   0.   0.  ]\n",
            " [0.   1.   0.   0.   0.   0.   0.   0.   0.   0.  ]\n",
            " [0.   1.   0.   0.   0.   0.   0.   0.   0.   0.  ]]\n"
          ],
          "name": "stdout"
        }
      ]
    },
    {
      "cell_type": "markdown",
      "metadata": {
        "id": "o9xTdaChvZTJ"
      },
      "source": [
        "###For each instance, the model has given us a probability. In the first class, the biggest number is 9.60168839e-01, implying the the instance is in class 9, which is an ankle boot."
      ]
    },
    {
      "cell_type": "markdown",
      "metadata": {
        "id": "7cmoEwxLxa1Y"
      },
      "source": [
        "##In order to know about the class with the highest estimated probability (even if that probability is quite low), we can use the predict_class() method.\n"
      ]
    },
    {
      "cell_type": "code",
      "metadata": {
        "colab": {
          "base_uri": "https://localhost:8080/"
        },
        "id": "J7cRn8Y4wF1U",
        "outputId": "eca03bf4-41a9-413f-d7cd-440f1e4842ab"
      },
      "source": [
        "\n",
        "y_prediction = model.predict_classes (X_prediction) "
      ],
      "execution_count": null,
      "outputs": [
        {
          "output_type": "stream",
          "text": [
            "WARNING:tensorflow:From <ipython-input-29-6d76992c9f88>:2: Sequential.predict_classes (from tensorflow.python.keras.engine.sequential) is deprecated and will be removed after 2021-01-01.\n",
            "Instructions for updating:\n",
            "Please use instead:* `np.argmax(model.predict(x), axis=-1)`,   if your model does multi-class classification   (e.g. if it uses a `softmax` last-layer activation).* `(model.predict(x) > 0.5).astype(\"int32\")`,   if your model does binary classification   (e.g. if it uses a `sigmoid` last-layer activation).\n"
          ],
          "name": "stdout"
        }
      ]
    },
    {
      "cell_type": "code",
      "metadata": {
        "colab": {
          "base_uri": "https://localhost:8080/"
        },
        "id": "X7_wd82MxPCP",
        "outputId": "b18c1148-2654-4402-a129-1f1d432e6e4e"
      },
      "source": [
        "print(y_prediction)"
      ],
      "execution_count": null,
      "outputs": [
        {
          "output_type": "stream",
          "text": [
            "[9 2 1 1]\n"
          ],
          "name": "stdout"
        }
      ]
    },
    {
      "cell_type": "markdown",
      "metadata": {
        "id": "L2rvcKy8ym0u"
      },
      "source": [
        "##Predicting the classes for the first 4 instances of UMIST fashion."
      ]
    },
    {
      "cell_type": "code",
      "metadata": {
        "colab": {
          "base_uri": "https://localhost:8080/"
        },
        "id": "XMyNTIiKyrkZ",
        "outputId": "df364b9e-e038-45ee-fe65-538f7e117896"
      },
      "source": [
        "import numpy as np\n",
        "\n",
        "x = np.array(classes)[y_prediction] \n",
        "print(x)\n"
      ],
      "execution_count": null,
      "outputs": [
        {
          "output_type": "stream",
          "text": [
            "['Ankle boot' 'Pullover' 'Trouser' 'Trouser']\n"
          ],
          "name": "stdout"
        }
      ]
    }
  ]
}